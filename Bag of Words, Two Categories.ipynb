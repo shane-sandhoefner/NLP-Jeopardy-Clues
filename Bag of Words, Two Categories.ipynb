{
 "cells": [
  {
   "cell_type": "markdown",
   "metadata": {},
   "source": [
    "# Predicting Jeopardy! Categories Using the Bag of Words Method: Two Categories"
   ]
  },
  {
   "cell_type": "markdown",
   "metadata": {},
   "source": [
    "In this notebook, I will look at a collection of clues and related data from the game show Jeopardy!. I will attempt to predict the category of a clue based on the clue text using the bag of words method.\n",
    "\n",
    "I will consider only two categories. I will try a few different classifiers and compare them using ROC and AUC.\n",
    "\n",
    "This data is available at https://blog.cambridgespark.com/50-free-machine-learning-datasets-natural-language-processing-d88fb9c5c8da"
   ]
  },
  {
   "cell_type": "markdown",
   "metadata": {},
   "source": [
    "## Data Preprocessing"
   ]
  },
  {
   "cell_type": "code",
   "execution_count": 1,
   "metadata": {},
   "outputs": [],
   "source": [
    "# Import libraries\n",
    "import pandas as pd\n",
    "import numpy as np\n",
    "import matplotlib.pyplot as plt\n",
    "import seaborn as sns\n",
    "\n",
    "# Import libraries for bag of words and classifiers\n",
    "import nltk\n",
    "from nltk.corpus import stopwords\n",
    "from sklearn.feature_extraction.text import CountVectorizer\n",
    "from sklearn.feature_extraction.text import TfidfTransformer\n",
    "from sklearn.model_selection import train_test_split\n",
    "from sklearn.model_selection import GridSearchCV\n",
    "from sklearn.ensemble import RandomForestClassifier\n",
    "from sklearn.linear_model import LogisticRegression\n",
    "from sklearn.neighbors import KNeighborsClassifier\n",
    "\n",
    "# Import libraries to evaluate models\n",
    "from sklearn.metrics import classification_report, confusion_matrix, accuracy_score\n",
    "from sklearn import metrics"
   ]
  },
  {
   "cell_type": "code",
   "execution_count": 2,
   "metadata": {},
   "outputs": [],
   "source": [
    "# Import data file\n",
    "df = pd.read_csv('JEOPARDY_CSV.csv')"
   ]
  },
  {
   "cell_type": "code",
   "execution_count": 3,
   "metadata": {},
   "outputs": [
    {
     "data": {
      "text/html": [
       "<div>\n",
       "<style scoped>\n",
       "    .dataframe tbody tr th:only-of-type {\n",
       "        vertical-align: middle;\n",
       "    }\n",
       "\n",
       "    .dataframe tbody tr th {\n",
       "        vertical-align: top;\n",
       "    }\n",
       "\n",
       "    .dataframe thead th {\n",
       "        text-align: right;\n",
       "    }\n",
       "</style>\n",
       "<table border=\"1\" class=\"dataframe\">\n",
       "  <thead>\n",
       "    <tr style=\"text-align: right;\">\n",
       "      <th></th>\n",
       "      <th>Show Number</th>\n",
       "      <th>Air Date</th>\n",
       "      <th>Round</th>\n",
       "      <th>Category</th>\n",
       "      <th>Value</th>\n",
       "      <th>Question</th>\n",
       "      <th>Answer</th>\n",
       "    </tr>\n",
       "  </thead>\n",
       "  <tbody>\n",
       "    <tr>\n",
       "      <th>0</th>\n",
       "      <td>4680</td>\n",
       "      <td>2004-12-31</td>\n",
       "      <td>Jeopardy!</td>\n",
       "      <td>HISTORY</td>\n",
       "      <td>$200</td>\n",
       "      <td>For the last 8 years of his life, Galileo was ...</td>\n",
       "      <td>Copernicus</td>\n",
       "    </tr>\n",
       "    <tr>\n",
       "      <th>1</th>\n",
       "      <td>4680</td>\n",
       "      <td>2004-12-31</td>\n",
       "      <td>Jeopardy!</td>\n",
       "      <td>ESPN's TOP 10 ALL-TIME ATHLETES</td>\n",
       "      <td>$200</td>\n",
       "      <td>No. 2: 1912 Olympian; football star at Carlisl...</td>\n",
       "      <td>Jim Thorpe</td>\n",
       "    </tr>\n",
       "    <tr>\n",
       "      <th>2</th>\n",
       "      <td>4680</td>\n",
       "      <td>2004-12-31</td>\n",
       "      <td>Jeopardy!</td>\n",
       "      <td>EVERYBODY TALKS ABOUT IT...</td>\n",
       "      <td>$200</td>\n",
       "      <td>The city of Yuma in this state has a record av...</td>\n",
       "      <td>Arizona</td>\n",
       "    </tr>\n",
       "    <tr>\n",
       "      <th>3</th>\n",
       "      <td>4680</td>\n",
       "      <td>2004-12-31</td>\n",
       "      <td>Jeopardy!</td>\n",
       "      <td>THE COMPANY LINE</td>\n",
       "      <td>$200</td>\n",
       "      <td>In 1963, live on \"The Art Linkletter Show\", th...</td>\n",
       "      <td>McDonald's</td>\n",
       "    </tr>\n",
       "    <tr>\n",
       "      <th>4</th>\n",
       "      <td>4680</td>\n",
       "      <td>2004-12-31</td>\n",
       "      <td>Jeopardy!</td>\n",
       "      <td>EPITAPHS &amp; TRIBUTES</td>\n",
       "      <td>$200</td>\n",
       "      <td>Signer of the Dec. of Indep., framer of the Co...</td>\n",
       "      <td>John Adams</td>\n",
       "    </tr>\n",
       "  </tbody>\n",
       "</table>\n",
       "</div>"
      ],
      "text/plain": [
       "   Show Number    Air Date      Round                         Category  Value  \\\n",
       "0         4680  2004-12-31  Jeopardy!                          HISTORY   $200   \n",
       "1         4680  2004-12-31  Jeopardy!  ESPN's TOP 10 ALL-TIME ATHLETES   $200   \n",
       "2         4680  2004-12-31  Jeopardy!      EVERYBODY TALKS ABOUT IT...   $200   \n",
       "3         4680  2004-12-31  Jeopardy!                 THE COMPANY LINE   $200   \n",
       "4         4680  2004-12-31  Jeopardy!              EPITAPHS & TRIBUTES   $200   \n",
       "\n",
       "                                            Question      Answer  \n",
       "0  For the last 8 years of his life, Galileo was ...  Copernicus  \n",
       "1  No. 2: 1912 Olympian; football star at Carlisl...  Jim Thorpe  \n",
       "2  The city of Yuma in this state has a record av...     Arizona  \n",
       "3  In 1963, live on \"The Art Linkletter Show\", th...  McDonald's  \n",
       "4  Signer of the Dec. of Indep., framer of the Co...  John Adams  "
      ]
     },
     "execution_count": 3,
     "metadata": {},
     "output_type": "execute_result"
    }
   ],
   "source": [
    "# View top five rows\n",
    "df.head()"
   ]
  },
  {
   "cell_type": "markdown",
   "metadata": {},
   "source": [
    "I received an error when trying to look into the column details, so I printed the column names and saw that several have an extra space."
   ]
  },
  {
   "cell_type": "code",
   "execution_count": 4,
   "metadata": {},
   "outputs": [
    {
     "name": "stdout",
     "output_type": "stream",
     "text": [
      "['Show Number', ' Air Date', ' Round', ' Category', ' Value', ' Question', ' Answer']\n"
     ]
    }
   ],
   "source": [
    "# Print column names\n",
    "print(df.columns.tolist())"
   ]
  },
  {
   "cell_type": "code",
   "execution_count": 5,
   "metadata": {},
   "outputs": [],
   "source": [
    "# Remove the extra space from the column names\n",
    "df.columns = df.columns.str.strip()"
   ]
  },
  {
   "cell_type": "markdown",
   "metadata": {},
   "source": [
    "In Jeopardy!, the answers are in the form of questions, so the 'Question' column should be called 'Clue' instead."
   ]
  },
  {
   "cell_type": "code",
   "execution_count": 6,
   "metadata": {},
   "outputs": [],
   "source": [
    "# Rename the 'Question' column as 'Clue'\n",
    "df.rename(columns={'Question': 'Clue'}, inplace=True)"
   ]
  },
  {
   "cell_type": "code",
   "execution_count": 7,
   "metadata": {},
   "outputs": [
    {
     "data": {
      "text/plain": [
       "BEFORE & AFTER                 547\n",
       "SCIENCE                        519\n",
       "LITERATURE                     496\n",
       "AMERICAN HISTORY               418\n",
       "POTPOURRI                      401\n",
       "                              ... \n",
       "1970s TELEVISION                 1\n",
       "RENAISSANCE LITERATURE           1\n",
       "EMMY WINNERS                     1\n",
       "THE ENCYCLOPEDIA BRITANNICA      1\n",
       "U.S. TRANSPORTATION HISTORY      1\n",
       "Name: Category, Length: 27995, dtype: int64"
      ]
     },
     "execution_count": 7,
     "metadata": {},
     "output_type": "execute_result"
    }
   ],
   "source": [
    "# Number of occurrences of each value in Category\n",
    "df['Category'].value_counts()"
   ]
  },
  {
   "cell_type": "markdown",
   "metadata": {},
   "source": [
    "I'll keep two of the most frequent categories: Science and Literature."
   ]
  },
  {
   "cell_type": "code",
   "execution_count": 8,
   "metadata": {},
   "outputs": [],
   "source": [
    "# Keep only those rows for which the value of Category is Science or Literature\n",
    "df = df.loc[df['Category'].isin(['SCIENCE', 'LITERATURE'])]"
   ]
  },
  {
   "cell_type": "code",
   "execution_count": 9,
   "metadata": {},
   "outputs": [
    {
     "data": {
      "text/plain": [
       "array(['SCIENCE', 'LITERATURE'], dtype=object)"
      ]
     },
     "execution_count": 9,
     "metadata": {},
     "output_type": "execute_result"
    }
   ],
   "source": [
    "# Check that only Science and Literature are present in the Category column\n",
    "df['Category'].unique()"
   ]
  },
  {
   "cell_type": "code",
   "execution_count": 10,
   "metadata": {},
   "outputs": [],
   "source": [
    "# Create a dataframe with only the 'Clue' and 'Category' columns\n",
    "df_nlp = df[['Clue','Category']]\n",
    "\n",
    "# Split the data into Clue and Answer (which is the target)\n",
    "X0, y = df_nlp.iloc[:,0], df_nlp.iloc[:,1]"
   ]
  },
  {
   "cell_type": "markdown",
   "metadata": {},
   "source": [
    "I need to clean the text of the clues. Some clues include web links, which need to be removed. I will also remove special characters and make all text lower-case."
   ]
  },
  {
   "cell_type": "code",
   "execution_count": 11,
   "metadata": {},
   "outputs": [],
   "source": [
    "# Remove web links\n",
    "X0 = X0.str.replace(r'http\\S+', '')\n",
    "\n",
    "# Remove special characters\n",
    "X0 = X0.str.replace('[^A-Za-z0-9]+', ' ')\n",
    "\n",
    "# Make all text lower-case\n",
    "X0 = X0.str.lower()\n",
    "\n",
    "# Remove leading spaces\n",
    "X = X0.str.strip()"
   ]
  },
  {
   "cell_type": "markdown",
   "metadata": {},
   "source": [
    "## Create the Bag of Words"
   ]
  },
  {
   "cell_type": "code",
   "execution_count": 12,
   "metadata": {},
   "outputs": [],
   "source": [
    "# Use the NLTK English stop words\n",
    "stop_words = nltk.corpus.stopwords.words('english')\n",
    "\n",
    "# Add some stop words which appear frequently in the clues\n",
    "new_stop_words = ('one', 'two', 'three', 'four', 'first', 'second', 'third', 'clue', 'crew', 'target', 'blank', 'sub', \n",
    "                  'called', 'call', 'named', 'name', 'u', 'use', 'used')\n",
    "\n",
    "# Join the two lists of stop words together\n",
    "total_stop_words = list(set().union(stop_words,new_stop_words))"
   ]
  },
  {
   "cell_type": "code",
   "execution_count": 13,
   "metadata": {},
   "outputs": [],
   "source": [
    "# Define and fit the count vectorizer\n",
    "vectorizer = CountVectorizer(max_features=6000, stop_words=total_stop_words)\n",
    "X = vectorizer.fit_transform(X).toarray()\n",
    "\n",
    "# Define and fit the Tfid transformer\n",
    "tfidfconverter = TfidfTransformer()\n",
    "X = tfidfconverter.fit_transform(X).toarray()\n",
    "\n",
    "# Split data into training and test sets\n",
    "X_train, X_test, y_train, y_test = train_test_split(X, y, test_size=0.2, random_state=0)"
   ]
  },
  {
   "cell_type": "markdown",
   "metadata": {},
   "source": [
    "## Random Forest Classifier"
   ]
  },
  {
   "cell_type": "code",
   "execution_count": 14,
   "metadata": {},
   "outputs": [
    {
     "data": {
      "text/plain": [
       "{'n_estimators': 100}"
      ]
     },
     "execution_count": 14,
     "metadata": {},
     "output_type": "execute_result"
    }
   ],
   "source": [
    "# Use GridSearchCV to find best values for n_estimators for Random Forest Classifier\n",
    "parameter = {'n_estimators' : [100, 200, 300, 400]}\n",
    "\n",
    "RFC = RandomForestClassifier()\n",
    "RFC_CV = GridSearchCV(RFC, parameter).fit(X_train, y_train)\n",
    "RFC_CV.best_params_"
   ]
  },
  {
   "cell_type": "code",
   "execution_count": 15,
   "metadata": {},
   "outputs": [],
   "source": [
    "# Define and fit random forest classifier\n",
    "RF_classifier = RandomForestClassifier(n_estimators=100, random_state=0)\n",
    "RF_classifier.fit(X_train, y_train) \n",
    "\n",
    "# Predict values with random forest classifier\n",
    "RF_y_pred = RF_classifier.predict(X_test)\n",
    "\n",
    "# Predict probabilities with random forest classifier\n",
    "RF_y_pred_proba = RF_classifier.predict_proba(X_test)"
   ]
  },
  {
   "cell_type": "code",
   "execution_count": 16,
   "metadata": {},
   "outputs": [
    {
     "name": "stdout",
     "output_type": "stream",
     "text": [
      "Random Forest Confusion Matrix\n",
      "\n",
      "[[ 82  15]\n",
      " [  4 102]]\n"
     ]
    }
   ],
   "source": [
    "# Print the random forest confusion matrix\n",
    "print ('Random Forest Confusion Matrix\\n')\n",
    "print(confusion_matrix(y_test, RF_y_pred))"
   ]
  },
  {
   "cell_type": "markdown",
   "metadata": {},
   "source": [
    "This means that 82 items in the test set were correctly classified as Literature, 102 were correctly classified as Science, 15 were misidentified as Science, and 4 were misidentified as Literature."
   ]
  },
  {
   "cell_type": "code",
   "execution_count": 17,
   "metadata": {},
   "outputs": [
    {
     "name": "stdout",
     "output_type": "stream",
     "text": [
      "Random Forest Classification Report\n",
      "\n",
      "              precision    recall  f1-score   support\n",
      "\n",
      "  LITERATURE       0.95      0.85      0.90        97\n",
      "     SCIENCE       0.87      0.96      0.91       106\n",
      "\n",
      "    accuracy                           0.91       203\n",
      "   macro avg       0.91      0.90      0.91       203\n",
      "weighted avg       0.91      0.91      0.91       203\n",
      "\n"
     ]
    }
   ],
   "source": [
    "# Print the random forest classification report\n",
    "print ('Random Forest Classification Report\\n')\n",
    "print(classification_report(y_test, RF_y_pred))"
   ]
  },
  {
   "cell_type": "markdown",
   "metadata": {},
   "source": [
    "Overall, 91% of all classifications were correct. Literature has a high precision, with 95% of the test set classified as Literature clues actually being Literature clues. The recall for Literature is lower, meaning that 85% of the test set Literature clues were correctly classified.\n",
    "\n",
    "For Science, the recall is higher than the precision."
   ]
  },
  {
   "cell_type": "markdown",
   "metadata": {},
   "source": [
    "## Logistic Regression"
   ]
  },
  {
   "cell_type": "code",
   "execution_count": 18,
   "metadata": {},
   "outputs": [],
   "source": [
    "# Define and fit logistic regression\n",
    "LR = LogisticRegression()\n",
    "LR.fit(X_train, y_train)\n",
    "\n",
    "# Predict values with logistic regression \n",
    "LR_y_pred = LR.predict(X_test)\n",
    "\n",
    "# Predict probabilities with logistic regression\n",
    "LR_y_pred_proba = LR.predict_proba(X_test)"
   ]
  },
  {
   "cell_type": "code",
   "execution_count": 19,
   "metadata": {},
   "outputs": [
    {
     "name": "stdout",
     "output_type": "stream",
     "text": [
      "Logistic Regression Confusion Matrix\n",
      "\n",
      "[[ 84  13]\n",
      " [  3 103]]\n"
     ]
    }
   ],
   "source": [
    "# Print the logistic regression confusion matrix\n",
    "print ('Logistic Regression Confusion Matrix\\n')\n",
    "print(confusion_matrix(y_test, LR_y_pred))"
   ]
  },
  {
   "cell_type": "markdown",
   "metadata": {},
   "source": [
    "This means that 84 items in the test set were correctly classified as Literature, 103 were correctly classified as Science, 13 were misidentified as Science, and 3 were misidentified as Literature."
   ]
  },
  {
   "cell_type": "code",
   "execution_count": 20,
   "metadata": {},
   "outputs": [
    {
     "name": "stdout",
     "output_type": "stream",
     "text": [
      "Logistic Regression Classification Report\n",
      "\n",
      "              precision    recall  f1-score   support\n",
      "\n",
      "  LITERATURE       0.97      0.87      0.91        97\n",
      "     SCIENCE       0.89      0.97      0.93       106\n",
      "\n",
      "    accuracy                           0.92       203\n",
      "   macro avg       0.93      0.92      0.92       203\n",
      "weighted avg       0.93      0.92      0.92       203\n",
      "\n"
     ]
    }
   ],
   "source": [
    "# Print the logistic regression classification report\n",
    "print ('Logistic Regression Classification Report\\n')\n",
    "print(classification_report(y_test, LR_y_pred))"
   ]
  },
  {
   "cell_type": "markdown",
   "metadata": {},
   "source": [
    "Overall, 92% of all classifications were correct. Literature has a high precision, with 97% of the test set classified as Literature clues actually being Literature clues. The recall for Literature is lower, meaning that 87% of the test set Literature clues were correctly classified.\n",
    "\n",
    "For Science, the recall is higher than the precision."
   ]
  },
  {
   "cell_type": "markdown",
   "metadata": {},
   "source": [
    "## KNN Classifier"
   ]
  },
  {
   "cell_type": "code",
   "execution_count": 21,
   "metadata": {},
   "outputs": [],
   "source": [
    "# Define and fit KNN classifier\n",
    "KNN_classifier = KNeighborsClassifier(n_neighbors=4)\n",
    "KNN_classifier.fit(X_train, y_train)\n",
    "\n",
    "# Predict values with KNN classifier\n",
    "KNN_y_pred = KNN_classifier.predict(X_test)\n",
    "\n",
    "# Predict probabilities with KNN classifier\n",
    "KNN_y_pred_proba = KNN_classifier.predict_proba(X_test)"
   ]
  },
  {
   "cell_type": "code",
   "execution_count": 22,
   "metadata": {},
   "outputs": [
    {
     "name": "stdout",
     "output_type": "stream",
     "text": [
      "KNN Confusion Matrix\n",
      "\n",
      "[[90  7]\n",
      " [19 87]]\n"
     ]
    }
   ],
   "source": [
    "# Print KNN confusion matrix\n",
    "print ('KNN Confusion Matrix\\n')\n",
    "print(confusion_matrix(y_test, KNN_y_pred))"
   ]
  },
  {
   "cell_type": "markdown",
   "metadata": {},
   "source": [
    "This means that 90 items in the test set were correctly classified as Literature, 87 were correctly classified as Science, 7 were misidentified as Science, and 19 were misidentified as Literature."
   ]
  },
  {
   "cell_type": "code",
   "execution_count": 23,
   "metadata": {},
   "outputs": [
    {
     "name": "stdout",
     "output_type": "stream",
     "text": [
      "KNN Classification Report\n",
      "\n",
      "              precision    recall  f1-score   support\n",
      "\n",
      "  LITERATURE       0.83      0.93      0.87        97\n",
      "     SCIENCE       0.93      0.82      0.87       106\n",
      "\n",
      "    accuracy                           0.87       203\n",
      "   macro avg       0.88      0.87      0.87       203\n",
      "weighted avg       0.88      0.87      0.87       203\n",
      "\n"
     ]
    }
   ],
   "source": [
    "# Print KNN classification report\n",
    "print ('KNN Classification Report\\n')\n",
    "print(classification_report(y_test, KNN_y_pred))"
   ]
  },
  {
   "cell_type": "markdown",
   "metadata": {},
   "source": [
    "Overall, 87% of all classifications were correct. Literature has a high recall, meaning 93% of the test set Literature clues were correctly classified. The precision for Literature is lower, meaning that 83% of the test set classified as Literature clues were actually Literature clues.\n",
    "\n",
    "For Science, the precision is higher than the recall."
   ]
  },
  {
   "cell_type": "markdown",
   "metadata": {},
   "source": [
    "## Receiver Operating Characteristic (ROC) and Area Under Curve (AUC)"
   ]
  },
  {
   "cell_type": "code",
   "execution_count": 24,
   "metadata": {},
   "outputs": [],
   "source": [
    "# Define false positive rate, true positive rate, and AUC (to three decimal places) for random forest\n",
    "RF_fpr, RF_tpr, _ = metrics.roc_curve(y_test,  RF_y_pred_proba[:,1], pos_label='SCIENCE')\n",
    "RF_auc = \"{:.3f}\".format(metrics.roc_auc_score(y_test, RF_y_pred_proba[:,1]))\n",
    "\n",
    "# Define false positive rate, true positive rate, and AUC (to three decimal places) for logistic regression\n",
    "LR_fpr, LR_tpr, _ = metrics.roc_curve(y_test,  LR_y_pred_proba[:,1], pos_label='SCIENCE')\n",
    "LR_auc = \"{:.3f}\".format(metrics.roc_auc_score(y_test, LR_y_pred_proba[:,1]))\n",
    "\n",
    "# Define false positive rate, true positive rate, and AUC (to three decimal places) for KNN\n",
    "KNN_fpr, KNN_tpr, _ = metrics.roc_curve(y_test,  KNN_y_pred_proba[:,1], pos_label='SCIENCE')\n",
    "KNN_auc = \"{:.3f}\".format(metrics.roc_auc_score(y_test, KNN_y_pred_proba[:,1]))"
   ]
  },
  {
   "cell_type": "code",
   "execution_count": 25,
   "metadata": {},
   "outputs": [
    {
     "data": {
      "image/png": "[encoded data removed]",
      "text/plain": [
       "<Figure size 576x396 with 1 Axes>"
      ]
     },
     "metadata": {},
     "output_type": "display_data"
    }
   ],
   "source": [
    "# Plot ROC curves\n",
    "plt.style.use('seaborn')\n",
    "plt.plot(RF_fpr, RF_tpr, linestyle='--',color='orange', label='Random Forest')\n",
    "plt.plot(LR_fpr, LR_tpr, linestyle='--',color='green', label='Logistic Regression')\n",
    "plt.plot(KNN_fpr, KNN_tpr, linestyle='--',color='blue', label='KNN')\n",
    "plt.title('ROC curve',fontsize=20)\n",
    "plt.xlabel('False Positive Rate',fontsize=15)\n",
    "plt.ylabel('True Positive rate',fontsize=15)\n",
    "plt.legend(loc='best',fontsize=15)\n",
    "plt.show();"
   ]
  },
  {
   "cell_type": "code",
   "execution_count": 26,
   "metadata": {},
   "outputs": [
    {
     "name": "stdout",
     "output_type": "stream",
     "text": [
      "Random Forest AUC: 0.960\n"
     ]
    }
   ],
   "source": [
    "# Print random forest AUC\n",
    "print(f'Random Forest AUC: {RF_auc}')"
   ]
  },
  {
   "cell_type": "code",
   "execution_count": 27,
   "metadata": {},
   "outputs": [
    {
     "name": "stdout",
     "output_type": "stream",
     "text": [
      "Logistic Regression AUC: 0.975\n"
     ]
    }
   ],
   "source": [
    "# Print logistic regression AUC\n",
    "print(f'Logistic Regression AUC: {LR_auc}')"
   ]
  },
  {
   "cell_type": "code",
   "execution_count": 28,
   "metadata": {},
   "outputs": [
    {
     "name": "stdout",
     "output_type": "stream",
     "text": [
      "KNN AUC: 0.927\n"
     ]
    }
   ],
   "source": [
    "# Print KNN AUC\n",
    "print(f'KNN AUC: {KNN_auc}')"
   ]
  },
  {
   "cell_type": "markdown",
   "metadata": {},
   "source": [
    "From the ROC curves and the AUC scores, the Logistic Regression performs the best in this case. This is also supported by the overall accuracy scores and the F1-scores in the classification reports."
   ]
  }
 ],
 "metadata": {
  "kernelspec": {
   "display_name": "Python 3",
   "language": "python",
   "name": "python3"
  },
  "language_info": {
   "codemirror_mode": {
    "name": "ipython",
    "version": 3
   },
   "file_extension": ".py",
   "mimetype": "text/x-python",
   "name": "python",
   "nbconvert_exporter": "python",
   "pygments_lexer": "ipython3",
   "version": "3.8.5"
  }
 },
 "nbformat": 4,
 "nbformat_minor": 4
}
